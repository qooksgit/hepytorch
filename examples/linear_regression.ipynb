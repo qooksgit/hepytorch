{
 "cells": [
  {
   "cell_type": "code",
   "execution_count": 1,
   "metadata": {},
   "outputs": [],
   "source": [
    "# import PyTorch and its related packages\n",
    "import torch as T\n",
    "import pandas as pd\n",
    "import hepytorch as hep\n",
    "import matplotlib.pyplot as plt"
   ]
  },
  {
   "cell_type": "code",
   "execution_count": 2,
   "metadata": {},
   "outputs": [],
   "source": [
    "num_inputs = 2\n",
    "num_outputs = 1\n",
    "num_examples = 10000\n",
    "dtype = T.float\n",
    "\n",
    "device = 'cuda' if T.cuda.is_available() else 'cpu'\n",
    "\n",
    "def real_fn(X):\n",
    "    return 2 * X[:, 0] - 3.4 * X[:, 1] + 4.2\n",
    "\n",
    "X = T.randn(num_examples, num_inputs, device=device, dtype=dtype)\n",
    "noise = .1 * T.randn(num_examples, device=device, dtype=dtype)\n",
    "Y = (real_fn(X) + noise).view(-1, 1)"
   ]
  },
  {
   "cell_type": "code",
   "execution_count": null,
   "metadata": {},
   "outputs": [],
   "source": [
    "plt.scatter(X[:, 1].cpu().numpy(), Y.cpu().numpy())\n",
    "plt.show()"
   ]
  },
  {
   "cell_type": "code",
   "execution_count": null,
   "metadata": {},
   "outputs": [],
   "source": [
    "plt.scatter(X[:, 0].cpu().numpy(), Y.cpu().numpy())\n",
    "plt.show()"
   ]
  },
  {
   "cell_type": "code",
   "execution_count": null,
   "metadata": {},
   "outputs": [],
   "source": [
    "# define dataframe for the dataset\n",
    "x = X.cpu().numpy()\n",
    "y = Y.cpu().numpy()\n",
    "x.shape, y.shape\n",
    "df = pd.DataFrame({'x1': x[:, 0], 'x2': x[:, 1], 'y': y[:, 0]})\n",
    "df.to_csv('./data/linear_regression_data.csv', index=False)\n",
    "df.head()"
   ]
  },
  {
   "cell_type": "code",
   "execution_count": 2,
   "metadata": {},
   "outputs": [],
   "source": [
    "myHEP = hep.HEPTorch('./recipes/linear_regression.json')"
   ]
  },
  {
   "cell_type": "code",
   "execution_count": 3,
   "metadata": {},
   "outputs": [
    {
     "name": "stdout",
     "output_type": "stream",
     "text": [
      "Epoch 0, loss: 2.8999868668079376\n",
      "Epoch 1, loss: 1.9189559776306153\n",
      "Epoch 2, loss: 1.2698826123476028\n",
      "Epoch 3, loss: 0.8404918667554855\n",
      "Epoch 4, loss: 0.5564154411137104\n",
      "Epoch 5, loss: 0.3684860820412636\n",
      "Epoch 6, loss: 0.24416069824695588\n",
      "Epoch 7, loss: 0.16189673876464367\n",
      "Epoch 8, loss: 0.10746655955314637\n",
      "Epoch 9, loss: 0.07145826536566019\n",
      "Epoch 10, loss: 0.047631600704044104\n",
      "Epoch 11, loss: 0.031864122223109005\n",
      "Epoch 12, loss: 0.021431478307768703\n",
      "Epoch 13, loss: 0.014527877839282156\n",
      "Epoch 14, loss: 0.009959215485304594\n",
      "Epoch 15, loss: 0.006935682286135852\n",
      "Epoch 16, loss: 0.004934495775587857\n",
      "Epoch 17, loss: 0.0036102711639367045\n",
      "Epoch 18, loss: 0.0027342130046803504\n",
      "Epoch 19, loss: 0.002153906250046566\n",
      "Epoch 20, loss: 0.0017698166421847418\n",
      "Epoch 21, loss: 0.00151545222888235\n",
      "Epoch 22, loss: 0.001347083861939609\n",
      "Epoch 23, loss: 0.0012355925934389234\n",
      "Epoch 24, loss: 0.0011617398370523005\n",
      "Epoch 25, loss: 0.0011128997777355835\n",
      "Epoch 26, loss: 0.0010806018928880804\n",
      "Epoch 27, loss: 0.0010590799935511314\n",
      "Epoch 28, loss: 0.0010448269235668703\n",
      "Epoch 29, loss: 0.0010354303159983828\n"
     ]
    }
   ],
   "source": [
    "result = myHEP.train()"
   ]
  },
  {
   "cell_type": "code",
   "execution_count": null,
   "metadata": {},
   "outputs": [],
   "source": [
    "losses = result['losses']\n",
    "print(losses)"
   ]
  },
  {
   "cell_type": "code",
   "execution_count": null,
   "metadata": {},
   "outputs": [],
   "source": [
    "params = myHEP.model.parameters()\n",
    "print('The type of \"params\" is a ', type(params))\n",
    "\n",
    "for name, param in myHEP.model.named_parameters():\n",
    "    if param.requires_grad:\n",
    "        print(name, param.data)"
   ]
  },
  {
   "cell_type": "code",
   "execution_count": null,
   "metadata": {},
   "outputs": [],
   "source": [
    "############################################\n",
    "#    Script to plot the losses over time\n",
    "############################################\n",
    "def plot(model, losses, X, sample_size=100):\n",
    "    xs = list(range(len(losses)))\n",
    "    f, (fg1, fg2) = plt.subplots(1, 2)\n",
    "    fg1.set_title('Loss during training')\n",
    "    fg1.plot(xs, losses, '-r')\n",
    "    fg2.set_title('Estimated vs real function')\n",
    "    fg2.plot(X[:sample_size].cpu().detach().numpy(),\n",
    "             model(X[:sample_size, :]).cpu().detach().numpy(), 'or', label='Estimated')\n",
    "    fg2.plot(X[:sample_size].cpu().detach().numpy(),\n",
    "             real_fn(X[:sample_size, :]).cpu().detach().numpy(), '+g', label='Real')\n",
    "    fg2.legend()\n",
    "\n",
    "    plt.show()\n",
    "\n",
    "            \n",
    "plot( myHEP.model, losses, X, 100)\n"
   ]
  }
 ],
 "metadata": {
  "kernelspec": {
   "display_name": "hep-pytorch",
   "language": "python",
   "name": "python3"
  },
  "language_info": {
   "codemirror_mode": {
    "name": "ipython",
    "version": 3
   },
   "file_extension": ".py",
   "mimetype": "text/x-python",
   "name": "python",
   "nbconvert_exporter": "python",
   "pygments_lexer": "ipython3",
   "version": "3.12.6"
  }
 },
 "nbformat": 4,
 "nbformat_minor": 2
}
