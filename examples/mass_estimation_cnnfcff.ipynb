{
 "cells": [
  {
   "cell_type": "code",
   "execution_count": 1,
   "metadata": {},
   "outputs": [
    {
     "name": "stderr",
     "output_type": "stream",
     "text": [
      "2024-11-20 10:14:07 - INFO - Using cpu device\n",
      "2024-11-20 10:14:07 - INFO - Using the following configuration\n",
      "{\n",
      "  \"data\": {\n",
      "    \"name\": \"CSVLoader\",\n",
      "    \"kwargs\": {\n",
      "      \"path\": \"./data/toymc/ttbar_1_30ll_test.csv\",\n",
      "      \"format\": \"csv\"\n",
      "    }\n",
      "  },\n",
      "  \"preprocessor\": {\n",
      "    \"name\": \"ObservablesPreprocessor\",\n",
      "    \"kwargs\": {}\n",
      "  },\n",
      "  \"model\": {\n",
      "    \"name\": \"ConvolutionalNeuralNetworkFullyConnectedFeedForward\",\n",
      "    \"kwargs\": {\n",
      "      \"input_features\": 20,\n",
      "      \"hidden_features\": 128,\n",
      "      \"batch_size\": 30,\n",
      "      \"output_features\": 2\n",
      "    }\n",
      "  },\n",
      "  \"loss_fn\": {\n",
      "    \"name\": \"CustomWeightedMSELoss\",\n",
      "    \"kwargs\": {}\n",
      "  },\n",
      "  \"optimizer\": {\n",
      "    \"name\": \"SGD\",\n",
      "    \"kwargs\": {\n",
      "      \"learning_rate\": 1e-05,\n",
      "      \"momentum\": 0.9\n",
      "    }\n",
      "  },\n",
      "  \"trainer\": {\n",
      "    \"name\": \"BasicTrainer\",\n",
      "    \"kwargs\": {\n",
      "      \"epochs\": 10,\n",
      "      \"batch_size\": 20,\n",
      "      \"regularization_type\": \"l2\",\n",
      "      \"lambda_reg\": 1e-05\n",
      "    }\n",
      "  }\n",
      "}\n",
      "2024-11-20 10:14:08 - INFO - Data shape: (25835, 50)\n",
      "2024-11-20 10:14:08 - INFO - Data columns: Index(['toppx', 'toppy', 'toppz', 'topmass', 'bpx', 'bpy', 'bpz', 'bmass',\n",
      "       'l+px', 'l+py', 'l+pz', 'l+mass', 'nu_lpx', 'nu_lpy', 'nu_lpz',\n",
      "       'nu_lmass', 'atoppx', 'atoppy', 'atoppz', 'atopmass', 'abpx', 'abpy',\n",
      "       'abpz', 'abmass', 'l-px', 'l-py', 'l-pz', 'l-mass', 'anu_lpx',\n",
      "       'anu_lpy', 'anu_lpz', 'anu_lmass', 'j_1px', 'j_1py', 'j_1pz', 'j_1mass',\n",
      "       'l_1px', 'l_1py', 'l_1pz', 'l_1mass', 'j_2px', 'j_2py', 'j_2pz',\n",
      "       'j_2mass', 'l_2px', 'l_2py', 'l_2pz', 'l_2mass', 'mex', 'mey'],\n",
      "      dtype='object')\n",
      "2024-11-20 10:14:08 - INFO - Data shape after preprocessing: torch.Size([25835, 20])\n",
      "2024-11-20 10:14:08 - INFO - Target shape after preprocessing: torch.Size([25835, 2])\n",
      "2024-11-20 10:14:08 - INFO - Model: ConvolutionalNeuralNetworkFullyConnectedFeedForward(\n",
      "  (network): Sequential(\n",
      "    (0): Conv1d(1, 16, kernel_size=(3,), stride=(1,), padding=(1,), bias=False)\n",
      "    (1): MaxPool1d(kernel_size=2, stride=2, padding=0, dilation=1, ceil_mode=False)\n",
      "    (2): Conv1d(16, 64, kernel_size=(3,), stride=(1,), padding=(1,), bias=False)\n",
      "    (3): MaxPool1d(kernel_size=2, stride=2, padding=0, dilation=1, ceil_mode=False)\n",
      "    (4): Conv1d(64, 128, kernel_size=(3,), stride=(1,), padding=(1,), bias=False)\n",
      "    (5): MaxPool1d(kernel_size=2, stride=2, padding=0, dilation=1, ceil_mode=False)\n",
      "  )\n",
      "  (linear): Sequential(\n",
      "    (0): Linear(in_features=256, out_features=64, bias=True)\n",
      "    (1): ReLU()\n",
      "    (2): Linear(in_features=64, out_features=32, bias=True)\n",
      "    (3): ReLU()\n",
      "    (4): Linear(in_features=32, out_features=16, bias=True)\n",
      "    (5): ReLU()\n",
      "    (6): Linear(in_features=16, out_features=1, bias=True)\n",
      "  )\n",
      ")\n"
     ]
    }
   ],
   "source": [
    "import hepytorch as hep\n",
    "import logging\n",
    "\n",
    "logging.basicConfig(\n",
    "    format=\"%(asctime)s - %(levelname)s - %(message)s\",\n",
    "    style=\"%\",\n",
    "    datefmt=\"%Y-%m-%d %H:%M:%S\",\n",
    "    level=logging.INFO,\n",
    ")\n",
    "\n",
    "myHEP = hep.HEPTorch('./recipes/mass_estimator_cnnfcff.json')"
   ]
  },
  {
   "cell_type": "code",
   "execution_count": 2,
   "metadata": {},
   "outputs": [
    {
     "name": "stdout",
     "output_type": "stream",
     "text": [
      "Epoch 0, loss: 0.912471911236168\n",
      "Epoch 1, loss: 0.9119423817730006\n",
      "Epoch 2, loss: 0.912126058315271\n",
      "Epoch 3, loss: 0.9115227629558386\n",
      "Epoch 4, loss: 0.9120596844781546\n",
      "Epoch 5, loss: 0.9116976430101414\n",
      "Epoch 6, loss: 0.9122285841508347\n",
      "Epoch 7, loss: 0.9118438202297293\n",
      "Epoch 8, loss: 0.9120583784119959\n",
      "Epoch 9, loss: 0.9110420839446113\n"
     ]
    }
   ],
   "source": [
    "result = myHEP.train()"
   ]
  },
  {
   "cell_type": "code",
   "execution_count": 3,
   "metadata": {},
   "outputs": [
    {
     "name": "stdout",
     "output_type": "stream",
     "text": [
      "[[0.12443119]\n",
      " [0.11809761]\n",
      " [0.13310614]\n",
      " ...\n",
      " [0.11653881]\n",
      " [0.11165284]\n",
      " [0.1221112 ]]\n"
     ]
    }
   ],
   "source": [
    "import matplotlib.pyplot as plt\n",
    "top_mass = myHEP.model(myHEP.data).detach().numpy()\n",
    "true_mass = myHEP.target.detach().numpy()\n",
    "print(top_mass)"
   ]
  },
  {
   "cell_type": "code",
   "execution_count": 4,
   "metadata": {},
   "outputs": [
    {
     "data": {
      "image/png": "[encoded data removed]",
      "text/plain": [
       "<Figure size 640x480 with 1 Axes>"
      ]
     },
     "metadata": {},
     "output_type": "display_data"
    }
   ],
   "source": [
    "# draw two histograms of top_mass and true_mass\n",
    "plt.hist(top_mass, bins=50, alpha=0.5, label='estimated top mass')\n",
    "plt.hist(true_mass, bins=50, alpha=0.5, label='true_mass')\n",
    "plt.legend(loc='upper right')\n",
    "plt.show()"
   ]
  },
  {
   "cell_type": "code",
   "execution_count": null,
   "metadata": {},
   "outputs": [],
   "source": []
  },
  {
   "cell_type": "code",
   "execution_count": null,
   "metadata": {},
   "outputs": [],
   "source": []
  },
  {
   "cell_type": "code",
   "execution_count": null,
   "metadata": {},
   "outputs": [],
   "source": []
  },
  {
   "cell_type": "code",
   "execution_count": null,
   "metadata": {},
   "outputs": [],
   "source": []
  },
  {
   "cell_type": "code",
   "execution_count": null,
   "metadata": {},
   "outputs": [],
   "source": []
  },
  {
   "cell_type": "code",
   "execution_count": null,
   "metadata": {},
   "outputs": [],
   "source": []
  },
  {
   "cell_type": "code",
   "execution_count": null,
   "metadata": {},
   "outputs": [],
   "source": []
  },
  {
   "cell_type": "code",
   "execution_count": null,
   "metadata": {},
   "outputs": [],
   "source": []
  },
  {
   "cell_type": "code",
   "execution_count": null,
   "metadata": {},
   "outputs": [],
   "source": []
  },
  {
   "cell_type": "code",
   "execution_count": null,
   "metadata": {},
   "outputs": [],
   "source": []
  },
  {
   "cell_type": "code",
   "execution_count": null,
   "metadata": {},
   "outputs": [],
   "source": []
  },
  {
   "cell_type": "code",
   "execution_count": null,
   "metadata": {},
   "outputs": [],
   "source": []
  },
  {
   "cell_type": "code",
   "execution_count": null,
   "metadata": {},
   "outputs": [],
   "source": []
  },
  {
   "cell_type": "code",
   "execution_count": null,
   "metadata": {},
   "outputs": [],
   "source": []
  },
  {
   "cell_type": "code",
   "execution_count": null,
   "metadata": {},
   "outputs": [],
   "source": []
  },
  {
   "cell_type": "code",
   "execution_count": null,
   "metadata": {},
   "outputs": [],
   "source": []
  },
  {
   "cell_type": "code",
   "execution_count": null,
   "metadata": {},
   "outputs": [],
   "source": []
  },
  {
   "cell_type": "code",
   "execution_count": null,
   "metadata": {},
   "outputs": [],
   "source": []
  },
  {
   "cell_type": "code",
   "execution_count": null,
   "metadata": {},
   "outputs": [],
   "source": []
  },
  {
   "cell_type": "code",
   "execution_count": null,
   "metadata": {},
   "outputs": [],
   "source": []
  }
 ],
 "metadata": {
  "kernelspec": {
   "display_name": "hep-pytorch",
   "language": "python",
   "name": "python3"
  },
  "language_info": {
   "codemirror_mode": {
    "name": "ipython",
    "version": 3
   },
   "file_extension": ".py",
   "mimetype": "text/x-python",
   "name": "python",
   "nbconvert_exporter": "python",
   "pygments_lexer": "ipython3",
   "version": "3.12.6"
  }
 },
 "nbformat": 4,
 "nbformat_minor": 2
}
