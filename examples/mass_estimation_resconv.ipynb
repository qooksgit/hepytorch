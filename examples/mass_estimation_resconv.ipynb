{
 "cells": [
  {
   "cell_type": "code",
   "execution_count": 1,
   "metadata": {},
   "outputs": [
    {
     "name": "stderr",
     "output_type": "stream",
     "text": [
      "2024-11-17 06:30:31 - INFO - hepytorch - Using cpu device\n",
      "2024-11-17 06:30:31 - INFO - hepytorch - Using the following configuration\n",
      "{\n",
      "  \"data\": {\n",
      "    \"name\": \"CSVLoader\",\n",
      "    \"kwargs\": {\n",
      "      \"path\": \"./data/toymc/ttbar_1_30ll_test.csv\",\n",
      "      \"format\": \"csv\"\n",
      "    }\n",
      "  },\n",
      "  \"preprocessor\": {\n",
      "    \"name\": \"ObservablesPreprocessor\",\n",
      "    \"kwargs\": {}\n",
      "  },\n",
      "  \"model\": {\n",
      "    \"name\": \"ResidualCNN\",\n",
      "    \"kwargs\": {\n",
      "      \"input_features\": 20,\n",
      "      \"hidden_features\": 31,\n",
      "      \"output_features\": 1\n",
      "    }\n",
      "  },\n",
      "  \"loss_fn\": {\n",
      "    \"name\": \"MSELoss\",\n",
      "    \"kwargs\": {}\n",
      "  },\n",
      "  \"optimizer\": {\n",
      "    \"name\": \"SGD\",\n",
      "    \"kwargs\": {\n",
      "      \"learning_rate\": 1e-05,\n",
      "      \"momentum\": 0.9\n",
      "    }\n",
      "  },\n",
      "  \"trainer\": {\n",
      "    \"name\": \"BasicTrainer\",\n",
      "    \"kwargs\": {\n",
      "      \"epochs\": 5,\n",
      "      \"batch_size\": 20\n",
      "    }\n",
      "  }\n",
      "}\n",
      "2024-11-17 06:30:32 - INFO - hepytorch - Data shape after preprocessing: torch.Size([25835, 20])\n",
      "/Users/i550012/study/heptopics/hepytorch/hepytorch/preprocessors/observables.py:52: UserWarning: The given NumPy array is not writable, and PyTorch does not support non-writable tensors. This means writing to this tensor will result in undefined behavior. You may want to copy the array to protect its data or make it writable before converting it to a tensor. This type of warning will be suppressed for the rest of this program. (Triggered internally at /Users/runner/work/pytorch/pytorch/pytorch/torch/csrc/utils/tensor_numpy.cpp:212.)\n",
      "  return torch.from_numpy(target.values).type(torch.float).reshape(-1, 1)\n",
      "2024-11-17 06:30:32 - INFO - hepytorch - Target shape after preprocessing: torch.Size([25835, 1])\n",
      "2024-11-17 06:30:32 - INFO - hepytorch - Model: ResidualCNN(\n",
      "  (network): Sequential(\n",
      "    (0): ResidualBlock(\n",
      "      (relu): ReLU()\n",
      "      (layer1): Sequential(\n",
      "        (0): Conv1d(1, 31, kernel_size=(3,), stride=(1,), padding=(1,), bias=False)\n",
      "        (1): MaxPool1d(kernel_size=2, stride=2, padding=0, dilation=1, ceil_mode=False)\n",
      "        (2): Conv1d(31, 62, kernel_size=(3,), stride=(1,), padding=(1,), bias=False)\n",
      "        (3): MaxPool1d(kernel_size=2, stride=2, padding=0, dilation=1, ceil_mode=False)\n",
      "        (4): Conv1d(62, 124, kernel_size=(3,), stride=(1,), padding=(1,), bias=False)\n",
      "        (5): MaxPool1d(kernel_size=2, stride=2, padding=0, dilation=1, ceil_mode=False)\n",
      "        (6): Conv1d(124, 20, kernel_size=(3,), stride=(1,), padding=(1,), bias=False)\n",
      "        (7): MaxPool1d(kernel_size=2, stride=2, padding=0, dilation=1, ceil_mode=False)\n",
      "      )\n",
      "      (layer2): Sequential(\n",
      "        (0): Linear(in_features=20, out_features=31, bias=True)\n",
      "        (1): ReLU()\n",
      "        (2): Linear(in_features=31, out_features=31, bias=True)\n",
      "        (3): ReLU()\n",
      "        (4): Linear(in_features=31, out_features=31, bias=True)\n",
      "      )\n",
      "    )\n",
      "    (1): ResidualBlock(\n",
      "      (relu): ReLU()\n",
      "      (layer1): Sequential(\n",
      "        (0): Conv1d(1, 31, kernel_size=(3,), stride=(1,), padding=(1,), bias=False)\n",
      "        (1): MaxPool1d(kernel_size=2, stride=2, padding=0, dilation=1, ceil_mode=False)\n",
      "        (2): Conv1d(31, 62, kernel_size=(3,), stride=(1,), padding=(1,), bias=False)\n",
      "        (3): MaxPool1d(kernel_size=2, stride=2, padding=0, dilation=1, ceil_mode=False)\n",
      "        (4): Conv1d(62, 124, kernel_size=(3,), stride=(1,), padding=(1,), bias=False)\n",
      "        (5): MaxPool1d(kernel_size=2, stride=2, padding=0, dilation=1, ceil_mode=False)\n",
      "        (6): Conv1d(124, 31, kernel_size=(3,), stride=(1,), padding=(1,), bias=False)\n",
      "        (7): MaxPool1d(kernel_size=2, stride=2, padding=0, dilation=1, ceil_mode=False)\n",
      "      )\n",
      "      (layer2): Sequential(\n",
      "        (0): Linear(in_features=31, out_features=31, bias=True)\n",
      "        (1): ReLU()\n",
      "        (2): Linear(in_features=31, out_features=31, bias=True)\n",
      "        (3): ReLU()\n",
      "        (4): Linear(in_features=31, out_features=31, bias=True)\n",
      "      )\n",
      "    )\n",
      "    (2): ResidualBlock(\n",
      "      (relu): ReLU()\n",
      "      (layer1): Sequential(\n",
      "        (0): Conv1d(1, 31, kernel_size=(3,), stride=(1,), padding=(1,), bias=False)\n",
      "        (1): MaxPool1d(kernel_size=2, stride=2, padding=0, dilation=1, ceil_mode=False)\n",
      "        (2): Conv1d(31, 62, kernel_size=(3,), stride=(1,), padding=(1,), bias=False)\n",
      "        (3): MaxPool1d(kernel_size=2, stride=2, padding=0, dilation=1, ceil_mode=False)\n",
      "        (4): Conv1d(62, 124, kernel_size=(3,), stride=(1,), padding=(1,), bias=False)\n",
      "        (5): MaxPool1d(kernel_size=2, stride=2, padding=0, dilation=1, ceil_mode=False)\n",
      "        (6): Conv1d(124, 31, kernel_size=(3,), stride=(1,), padding=(1,), bias=False)\n",
      "        (7): MaxPool1d(kernel_size=2, stride=2, padding=0, dilation=1, ceil_mode=False)\n",
      "      )\n",
      "      (layer2): Sequential(\n",
      "        (0): Linear(in_features=31, out_features=31, bias=True)\n",
      "        (1): ReLU()\n",
      "        (2): Linear(in_features=31, out_features=31, bias=True)\n",
      "        (3): ReLU()\n",
      "        (4): Linear(in_features=31, out_features=31, bias=True)\n",
      "      )\n",
      "    )\n",
      "    (3): ResidualBlock(\n",
      "      (relu): ReLU()\n",
      "      (layer1): Sequential(\n",
      "        (0): Conv1d(1, 31, kernel_size=(3,), stride=(1,), padding=(1,), bias=False)\n",
      "        (1): MaxPool1d(kernel_size=2, stride=2, padding=0, dilation=1, ceil_mode=False)\n",
      "        (2): Conv1d(31, 62, kernel_size=(3,), stride=(1,), padding=(1,), bias=False)\n",
      "        (3): MaxPool1d(kernel_size=2, stride=2, padding=0, dilation=1, ceil_mode=False)\n",
      "        (4): Conv1d(62, 124, kernel_size=(3,), stride=(1,), padding=(1,), bias=False)\n",
      "        (5): MaxPool1d(kernel_size=2, stride=2, padding=0, dilation=1, ceil_mode=False)\n",
      "        (6): Conv1d(124, 31, kernel_size=(3,), stride=(1,), padding=(1,), bias=False)\n",
      "        (7): MaxPool1d(kernel_size=2, stride=2, padding=0, dilation=1, ceil_mode=False)\n",
      "      )\n",
      "      (layer2): Sequential(\n",
      "        (0): Linear(in_features=31, out_features=31, bias=True)\n",
      "        (1): ReLU()\n",
      "        (2): Linear(in_features=31, out_features=31, bias=True)\n",
      "        (3): ReLU()\n",
      "        (4): Linear(in_features=31, out_features=31, bias=True)\n",
      "      )\n",
      "    )\n",
      "  )\n",
      "  (linear): Sequential(\n",
      "    (0): Linear(in_features=31, out_features=1, bias=True)\n",
      "  )\n",
      ")\n"
     ]
    }
   ],
   "source": [
    "import hepytorch as hep\n",
    "import logging\n",
    "# logging config showing time level message, name of the logger, and line number of the log message\n",
    "logging.basicConfig(\n",
    "    format=\"%(asctime)s - %(levelname)s - %(name)s - %(message)s\",\n",
    "    style=\"%\",\n",
    "    datefmt=\"%Y-%m-%d %H:%M:%S\",\n",
    "    level=logging.INFO,\n",
    ")\n",
    "\n",
    "myHEP = hep.HEPTorch('./recipes/mass_estimator_rescnn.json')"
   ]
  },
  {
   "cell_type": "code",
   "execution_count": 2,
   "metadata": {},
   "outputs": [
    {
     "name": "stdout",
     "output_type": "stream",
     "text": [
      "Epoch 0, loss: 78.20691378732727\n",
      "Epoch 1, loss: 0.38820246681960335\n",
      "Epoch 2, loss: 0.38702325438631785\n",
      "Epoch 3, loss: 0.38501994869730705\n",
      "Epoch 4, loss: 0.3858100072532829\n"
     ]
    }
   ],
   "source": [
    "result = myHEP.train()"
   ]
  },
  {
   "cell_type": "code",
   "execution_count": 5,
   "metadata": {},
   "outputs": [
    {
     "name": "stdout",
     "output_type": "stream",
     "text": [
      "[[172.05087]\n",
      " [172.05087]\n",
      " [172.05087]\n",
      " ...\n",
      " [172.05087]\n",
      " [172.05087]\n",
      " [172.05087]]\n"
     ]
    }
   ],
   "source": [
    "import matplotlib.pyplot as plt\n",
    "top_mass = myHEP.model(myHEP.data).detach().numpy()\n",
    "true_mass = myHEP.target.detach().numpy()\n",
    "print(top_mass)"
   ]
  },
  {
   "cell_type": "code",
   "execution_count": 6,
   "metadata": {},
   "outputs": [
    {
     "data": {
      "image/png": "[encoded data removed]",
      "text/plain": [
       "<Figure size 640x480 with 1 Axes>"
      ]
     },
     "metadata": {},
     "output_type": "display_data"
    }
   ],
   "source": [
    "# draw two histograms of top_mass and true_mass\n",
    "plt.hist(top_mass, bins=50, alpha=0.5, label='estimated top mass')\n",
    "#plt.hist(true_mass, bins=50, alpha=0.5, label='true_mass')\n",
    "plt.legend(loc='upper right')\n",
    "plt.show()"
   ]
  },
  {
   "cell_type": "code",
   "execution_count": null,
   "metadata": {},
   "outputs": [],
   "source": []
  },
  {
   "cell_type": "code",
   "execution_count": null,
   "metadata": {},
   "outputs": [],
   "source": []
  },
  {
   "cell_type": "code",
   "execution_count": null,
   "metadata": {},
   "outputs": [],
   "source": []
  },
  {
   "cell_type": "code",
   "execution_count": null,
   "metadata": {},
   "outputs": [],
   "source": []
  },
  {
   "cell_type": "code",
   "execution_count": null,
   "metadata": {},
   "outputs": [],
   "source": []
  },
  {
   "cell_type": "code",
   "execution_count": null,
   "metadata": {},
   "outputs": [],
   "source": []
  },
  {
   "cell_type": "code",
   "execution_count": null,
   "metadata": {},
   "outputs": [],
   "source": []
  },
  {
   "cell_type": "code",
   "execution_count": null,
   "metadata": {},
   "outputs": [],
   "source": []
  },
  {
   "cell_type": "code",
   "execution_count": null,
   "metadata": {},
   "outputs": [],
   "source": []
  },
  {
   "cell_type": "code",
   "execution_count": null,
   "metadata": {},
   "outputs": [],
   "source": []
  },
  {
   "cell_type": "code",
   "execution_count": null,
   "metadata": {},
   "outputs": [],
   "source": []
  },
  {
   "cell_type": "code",
   "execution_count": null,
   "metadata": {},
   "outputs": [],
   "source": []
  },
  {
   "cell_type": "code",
   "execution_count": null,
   "metadata": {},
   "outputs": [],
   "source": []
  },
  {
   "cell_type": "code",
   "execution_count": null,
   "metadata": {},
   "outputs": [],
   "source": []
  },
  {
   "cell_type": "code",
   "execution_count": null,
   "metadata": {},
   "outputs": [],
   "source": []
  },
  {
   "cell_type": "code",
   "execution_count": null,
   "metadata": {},
   "outputs": [],
   "source": []
  },
  {
   "cell_type": "code",
   "execution_count": null,
   "metadata": {},
   "outputs": [],
   "source": []
  },
  {
   "cell_type": "code",
   "execution_count": null,
   "metadata": {},
   "outputs": [],
   "source": []
  },
  {
   "cell_type": "code",
   "execution_count": null,
   "metadata": {},
   "outputs": [],
   "source": []
  },
  {
   "cell_type": "code",
   "execution_count": null,
   "metadata": {},
   "outputs": [],
   "source": []
  }
 ],
 "metadata": {
  "kernelspec": {
   "display_name": "hep-pytorch",
   "language": "python",
   "name": "python3"
  },
  "language_info": {
   "codemirror_mode": {
    "name": "ipython",
    "version": 3
   },
   "file_extension": ".py",
   "mimetype": "text/x-python",
   "name": "python",
   "nbconvert_exporter": "python",
   "pygments_lexer": "ipython3",
   "version": "3.12.6"
  }
 },
 "nbformat": 4,
 "nbformat_minor": 2
}
