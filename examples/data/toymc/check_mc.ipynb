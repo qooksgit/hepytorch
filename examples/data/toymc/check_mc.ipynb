{
 "cells": [
  {
   "cell_type": "code",
   "execution_count": 1,
   "metadata": {},
   "outputs": [],
   "source": [
    "import pandas as pd\n",
    "import matplotlib \n",
    "import matplotlib.pyplot as plt\n",
    "%matplotlib inline"
   ]
  },
  {
   "cell_type": "code",
   "execution_count": 2,
   "metadata": {},
   "outputs": [],
   "source": [
    "df = pd.read_csv('ttbar_1_30ll_test.csv')"
   ]
  },
  {
   "cell_type": "markdown",
   "metadata": {},
   "source": []
  },
  {
   "cell_type": "code",
   "execution_count": 8,
   "metadata": {},
   "outputs": [
    {
     "data": {
      "text/html": [
       "<div>\n",
       "<style scoped>\n",
       "    .dataframe tbody tr th:only-of-type {\n",
       "        vertical-align: middle;\n",
       "    }\n",
       "\n",
       "    .dataframe tbody tr th {\n",
       "        vertical-align: top;\n",
       "    }\n",
       "\n",
       "    .dataframe thead th {\n",
       "        text-align: right;\n",
       "    }\n",
       "</style>\n",
       "<table border=\"1\" class=\"dataframe\">\n",
       "  <thead>\n",
       "    <tr style=\"text-align: right;\">\n",
       "      <th></th>\n",
       "      <th>toppx</th>\n",
       "      <th>toppy</th>\n",
       "      <th>toppz</th>\n",
       "      <th>topmass</th>\n",
       "      <th>bpx</th>\n",
       "      <th>bpy</th>\n",
       "      <th>bpz</th>\n",
       "      <th>bmass</th>\n",
       "      <th>l+px</th>\n",
       "      <th>l+py</th>\n",
       "      <th>...</th>\n",
       "      <th>j_2px</th>\n",
       "      <th>j_2py</th>\n",
       "      <th>j_2pz</th>\n",
       "      <th>j_2mass</th>\n",
       "      <th>l_2px</th>\n",
       "      <th>l_2py</th>\n",
       "      <th>l_2pz</th>\n",
       "      <th>l_2mass</th>\n",
       "      <th>mex</th>\n",
       "      <th>mey</th>\n",
       "    </tr>\n",
       "  </thead>\n",
       "  <tbody>\n",
       "    <tr>\n",
       "      <th>0</th>\n",
       "      <td>-4.06162</td>\n",
       "      <td>-54.6371</td>\n",
       "      <td>594.882</td>\n",
       "      <td>172.993</td>\n",
       "      <td>61.7480</td>\n",
       "      <td>-39.4545</td>\n",
       "      <td>185.644000</td>\n",
       "      <td>4.70019</td>\n",
       "      <td>-59.72640</td>\n",
       "      <td>-5.49872</td>\n",
       "      <td>...</td>\n",
       "      <td>35.98620</td>\n",
       "      <td>-22.8546</td>\n",
       "      <td>112.5420</td>\n",
       "      <td>5.06888</td>\n",
       "      <td>-51.96460</td>\n",
       "      <td>-13.8786</td>\n",
       "      <td>-57.7951</td>\n",
       "      <td>-9.536740e-07</td>\n",
       "      <td>67.1718</td>\n",
       "      <td>-35.92530</td>\n",
       "    </tr>\n",
       "    <tr>\n",
       "      <th>1</th>\n",
       "      <td>-38.36740</td>\n",
       "      <td>11.5361</td>\n",
       "      <td>-352.398</td>\n",
       "      <td>171.558</td>\n",
       "      <td>-24.3156</td>\n",
       "      <td>63.5997</td>\n",
       "      <td>-213.020000</td>\n",
       "      <td>4.70024</td>\n",
       "      <td>-24.53280</td>\n",
       "      <td>11.64510</td>\n",
       "      <td>...</td>\n",
       "      <td>-24.73260</td>\n",
       "      <td>64.5571</td>\n",
       "      <td>-216.9420</td>\n",
       "      <td>8.16319</td>\n",
       "      <td>-24.91900</td>\n",
       "      <td>11.8284</td>\n",
       "      <td>-17.3064</td>\n",
       "      <td>1.060000e-01</td>\n",
       "      <td>75.3727</td>\n",
       "      <td>-54.79940</td>\n",
       "    </tr>\n",
       "    <tr>\n",
       "      <th>2</th>\n",
       "      <td>13.70050</td>\n",
       "      <td>360.1640</td>\n",
       "      <td>527.022</td>\n",
       "      <td>172.230</td>\n",
       "      <td>47.5074</td>\n",
       "      <td>135.9710</td>\n",
       "      <td>116.103000</td>\n",
       "      <td>4.69990</td>\n",
       "      <td>-34.09130</td>\n",
       "      <td>197.11400</td>\n",
       "      <td>...</td>\n",
       "      <td>41.88220</td>\n",
       "      <td>113.1990</td>\n",
       "      <td>96.9771</td>\n",
       "      <td>8.92137</td>\n",
       "      <td>-23.87200</td>\n",
       "      <td>-116.7420</td>\n",
       "      <td>268.0690</td>\n",
       "      <td>1.060000e-01</td>\n",
       "      <td>-32.3616</td>\n",
       "      <td>14.86840</td>\n",
       "    </tr>\n",
       "    <tr>\n",
       "      <th>3</th>\n",
       "      <td>-55.15070</td>\n",
       "      <td>37.8959</td>\n",
       "      <td>-141.676</td>\n",
       "      <td>173.480</td>\n",
       "      <td>-19.3091</td>\n",
       "      <td>62.7090</td>\n",
       "      <td>-0.404925</td>\n",
       "      <td>4.69999</td>\n",
       "      <td>-59.64250</td>\n",
       "      <td>-13.21540</td>\n",
       "      <td>...</td>\n",
       "      <td>-7.48992</td>\n",
       "      <td>45.8222</td>\n",
       "      <td>-199.8410</td>\n",
       "      <td>6.41067</td>\n",
       "      <td>-60.90670</td>\n",
       "      <td>-13.4955</td>\n",
       "      <td>-77.4023</td>\n",
       "      <td>1.060000e-01</td>\n",
       "      <td>64.2186</td>\n",
       "      <td>3.97436</td>\n",
       "    </tr>\n",
       "    <tr>\n",
       "      <th>4</th>\n",
       "      <td>102.41900</td>\n",
       "      <td>-52.4251</td>\n",
       "      <td>230.311</td>\n",
       "      <td>171.413</td>\n",
       "      <td>110.4990</td>\n",
       "      <td>-12.0598</td>\n",
       "      <td>166.082000</td>\n",
       "      <td>4.70016</td>\n",
       "      <td>2.14025</td>\n",
       "      <td>-19.91420</td>\n",
       "      <td>...</td>\n",
       "      <td>-25.72660</td>\n",
       "      <td>-22.5612</td>\n",
       "      <td>157.7780</td>\n",
       "      <td>7.69718</td>\n",
       "      <td>2.21727</td>\n",
       "      <td>-20.6308</td>\n",
       "      <td>82.3037</td>\n",
       "      <td>1.060000e-01</td>\n",
       "      <td>-27.8684</td>\n",
       "      <td>110.49200</td>\n",
       "    </tr>\n",
       "  </tbody>\n",
       "</table>\n",
       "<p>5 rows × 50 columns</p>\n",
       "</div>"
      ],
      "text/plain": [
       "       toppx     toppy    toppz  topmass       bpx       bpy         bpz  \\\n",
       "0   -4.06162  -54.6371  594.882  172.993   61.7480  -39.4545  185.644000   \n",
       "1  -38.36740   11.5361 -352.398  171.558  -24.3156   63.5997 -213.020000   \n",
       "2   13.70050  360.1640  527.022  172.230   47.5074  135.9710  116.103000   \n",
       "3  -55.15070   37.8959 -141.676  173.480  -19.3091   62.7090   -0.404925   \n",
       "4  102.41900  -52.4251  230.311  171.413  110.4990  -12.0598  166.082000   \n",
       "\n",
       "     bmass      l+px       l+py  ...     j_2px     j_2py     j_2pz  j_2mass  \\\n",
       "0  4.70019 -59.72640   -5.49872  ...  35.98620  -22.8546  112.5420  5.06888   \n",
       "1  4.70024 -24.53280   11.64510  ... -24.73260   64.5571 -216.9420  8.16319   \n",
       "2  4.69990 -34.09130  197.11400  ...  41.88220  113.1990   96.9771  8.92137   \n",
       "3  4.69999 -59.64250  -13.21540  ...  -7.48992   45.8222 -199.8410  6.41067   \n",
       "4  4.70016   2.14025  -19.91420  ... -25.72660  -22.5612  157.7780  7.69718   \n",
       "\n",
       "      l_2px     l_2py     l_2pz       l_2mass      mex        mey  \n",
       "0 -51.96460  -13.8786  -57.7951 -9.536740e-07  67.1718  -35.92530  \n",
       "1 -24.91900   11.8284  -17.3064  1.060000e-01  75.3727  -54.79940  \n",
       "2 -23.87200 -116.7420  268.0690  1.060000e-01 -32.3616   14.86840  \n",
       "3 -60.90670  -13.4955  -77.4023  1.060000e-01  64.2186    3.97436  \n",
       "4   2.21727  -20.6308   82.3037  1.060000e-01 -27.8684  110.49200  \n",
       "\n",
       "[5 rows x 50 columns]"
      ]
     },
     "execution_count": 8,
     "metadata": {},
     "output_type": "execute_result"
    }
   ],
   "source": []
  },
  {
   "cell_type": "code",
   "execution_count": 9,
   "metadata": {},
   "outputs": [
    {
     "data": {
      "text/plain": [
       "Index(['toppx', 'toppy', 'toppz', 'topmass', 'bpx', 'bpy', 'bpz', 'bmass',\n",
       "       'l+px', 'l+py', 'l+pz', 'l+mass', 'nu_lpx', 'nu_lpy', 'nu_lpz',\n",
       "       'nu_lmass', 'top~px', 'top~py', 'top~pz', 'top~mass', 'b~px', 'b~py',\n",
       "       'b~pz', 'b~mass', 'l-px', 'l-py', 'l-pz', 'l-mass', 'nu_l~px',\n",
       "       'nu_l~py', 'nu_l~pz', 'nu_l~mass', 'j_1px', 'j_1py', 'j_1pz', 'j_1mass',\n",
       "       'l_1px', 'l_1py', 'l_1pz', 'l_1mass', 'j_2px', 'j_2py', 'j_2pz',\n",
       "       'j_2mass', 'l_2px', 'l_2py', 'l_2pz', 'l_2mass', 'mex', 'mey'],\n",
       "      dtype='object')"
      ]
     },
     "execution_count": 9,
     "metadata": {},
     "output_type": "execute_result"
    }
   ],
   "source": [
    "def get_totalenerge(df, particle_name):\n",
    "    df['invariance'] = df.apply(lambda row: (row[particle_name+'_1']+row[particle_name+'_2'])**2 - (row[particle_name+'_px_1']+row[particle_name+'_px_2'])**2 - (row[particle_name+'_py_1']+row[particle_name+'_py_2'])**2 - (row[particle_name+'_pz_1']+row[particle_name+'_pz_2'])**2, axis=1)\n",
    "    return df\n",
    "\n",
    "top -> b (jet ? ))+ l+ + nu \n",
    "top~ -> b~ (jet ?) + l- + nubar\n",
    "\n",
    "\n",
    "\n",
    "j1 j2 l1 l2, mex (missing enery sum of x direction ), mey (missing enery sum of y direction) \n",
    "\n",
    "\n",
    "total(j?) + total(l?) + mey + mex : -> top_mass, anti_top_mass\n",
    "\n",
    "nu1_px nu1_py nu1_pz \n",
    "\n",
    "nu2_px nu2_py nu2_pz\n",
    "\n",
    "-> top_mass, anti_top_mass\n",
    "\n"
   ]
  },
  {
   "cell_type": "code",
   "execution_count": null,
   "metadata": {},
   "outputs": [],
   "source": []
  },
  {
   "cell_type": "code",
   "execution_count": null,
   "metadata": {},
   "outputs": [],
   "source": []
  },
  {
   "cell_type": "code",
   "execution_count": 29,
   "metadata": {},
   "outputs": [],
   "source": [
    "df['top_ps'] = df['toppx']*df['toppx'] + df['toppy']*df['toppy'] + df['toppz']*df['toppz']\n",
    "df['top~_ps'] = df['top~px']*df['top~px'] + df['top~py']*df['top~py'] + df['top~pz']*df['top~pz']\n",
    "df['top_ms'] = df['topmass']*df['topmass'] + df['top_ps']\n",
    "df['top~_ms'] = df['top~mass']*df['top~mass'] + df['top~_ps']"
   ]
  },
  {
   "cell_type": "code",
   "execution_count": 30,
   "metadata": {},
   "outputs": [],
   "source": [
    "df['total']= df['top_ms'] + df['top~_ms']"
   ]
  },
  {
   "cell_type": "code",
   "execution_count": 6,
   "metadata": {},
   "outputs": [
    {
     "data": {
      "text/plain": [
       "<Axes: >"
      ]
     },
     "execution_count": 6,
     "metadata": {},
     "output_type": "execute_result"
    },
    {
     "data": {
      "image/png": "[encoded data removed]",
      "text/plain": [
       "<Figure size 640x480 with 1 Axes>"
      ]
     },
     "metadata": {},
     "output_type": "display_data"
    }
   ],
   "source": [
    "# draw the histogram of top_ms\n",
    "df['topmass'].hist(bins=100, range=(150, 200))"
   ]
  },
  {
   "cell_type": "code",
   "execution_count": null,
   "metadata": {},
   "outputs": [],
   "source": []
  },
  {
   "cell_type": "code",
   "execution_count": null,
   "metadata": {},
   "outputs": [],
   "source": []
  },
  {
   "cell_type": "code",
   "execution_count": null,
   "metadata": {},
   "outputs": [],
   "source": []
  },
  {
   "cell_type": "code",
   "execution_count": null,
   "metadata": {},
   "outputs": [],
   "source": []
  },
  {
   "cell_type": "code",
   "execution_count": null,
   "metadata": {},
   "outputs": [],
   "source": []
  },
  {
   "cell_type": "code",
   "execution_count": null,
   "metadata": {},
   "outputs": [],
   "source": []
  },
  {
   "cell_type": "code",
   "execution_count": null,
   "metadata": {},
   "outputs": [],
   "source": []
  },
  {
   "cell_type": "code",
   "execution_count": null,
   "metadata": {},
   "outputs": [],
   "source": []
  },
  {
   "cell_type": "code",
   "execution_count": null,
   "metadata": {},
   "outputs": [],
   "source": []
  },
  {
   "cell_type": "code",
   "execution_count": null,
   "metadata": {},
   "outputs": [],
   "source": []
  },
  {
   "cell_type": "code",
   "execution_count": null,
   "metadata": {},
   "outputs": [],
   "source": []
  },
  {
   "cell_type": "code",
   "execution_count": null,
   "metadata": {},
   "outputs": [],
   "source": []
  },
  {
   "cell_type": "code",
   "execution_count": null,
   "metadata": {},
   "outputs": [],
   "source": []
  },
  {
   "cell_type": "code",
   "execution_count": null,
   "metadata": {},
   "outputs": [],
   "source": []
  },
  {
   "cell_type": "code",
   "execution_count": null,
   "metadata": {},
   "outputs": [],
   "source": []
  },
  {
   "cell_type": "code",
   "execution_count": null,
   "metadata": {},
   "outputs": [],
   "source": []
  },
  {
   "cell_type": "markdown",
   "metadata": {},
   "source": []
  }
 ],
 "metadata": {
  "kernelspec": {
   "display_name": "hep-pytorch",
   "language": "python",
   "name": "python3"
  },
  "language_info": {
   "codemirror_mode": {
    "name": "ipython",
    "version": 3
   },
   "file_extension": ".py",
   "mimetype": "text/x-python",
   "name": "python",
   "nbconvert_exporter": "python",
   "pygments_lexer": "ipython3",
   "version": "3.12.3"
  }
 },
 "nbformat": 4,
 "nbformat_minor": 2
}
